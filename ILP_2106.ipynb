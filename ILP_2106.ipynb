{
 "cells": [
  {
   "cell_type": "code",
   "execution_count": 1,
   "metadata": {},
   "outputs": [],
   "source": [
    "from pulp import LpProblem, LpMinimize, LpVariable, lpSum, LpInteger, LpStatus, value"
   ]
  },
  {
   "cell_type": "code",
   "execution_count": 2,
   "metadata": {},
   "outputs": [],
   "source": [
    "# Sets\n",
    "flights = ['F1', 'F2']\n",
    "classes = ['Economy', 'Business', 'First']\n",
    "\n",
    "# Parameters\n",
    "# Demand\n",
    "D = {\n",
    "    ('F1', 'Economy'): 90, ('F1', 'Business'): 40, ('F1', 'First'): 10,\n",
    "    ('F2', 'Economy'): 80, ('F2', 'Business'): 30, ('F2', 'First'): 20\n",
    "}\n",
    "\n",
    "# Capacity\n",
    "K = {\n",
    "    ('F1', 'Economy'): 100, ('F1', 'Business'): 50, ('F1', 'First'): 20,\n",
    "    ('F2', 'Economy'): 90,  ('F2', 'Business'): 40, ('F2', 'First'): 30\n",
    "}\n",
    "\n",
    "# Distance\n",
    "d_f = {'F1': 1000, 'F2': 1500}\n",
    "\n",
    "# Base fare\n",
    "c_seat = {\n",
    "    ('F1', 'Economy'): 50, ('F1', 'Business'): 100, ('F1', 'First'): 150,\n",
    "    ('F2', 'Economy'): 45, ('F2', 'Business'): 90,  ('F2', 'First'): 140\n",
    "}\n",
    "\n",
    "\n",
    "# c_luggage = {\n",
    "#     ('F1', 'Economy'): 10, ('F1', 'Business'): 15, ('F1', 'First'): 20,\n",
    "#     ('F2', 'Economy'): 10, ('F2', 'Business'): 15, ('F2', 'First'): 20\n",
    "# }\n",
    "# c_legroom = {\n",
    "#     ('F1', 'Economy'): 5,  ('F1', 'Business'): 10, ('F1', 'First'): 15,\n",
    "#     ('F2', 'Economy'): 5,  ('F2', 'Business'): 10, ('F2', 'First'): 15\n",
    "# }\n",
    "\n",
    "# Overbooking Cost\n",
    "c_overbook = {\n",
    "    ('F1', 'Economy'): 200, ('F1', 'Business'): 300, ('F1', 'First'): 500,\n",
    "    ('F2', 'Economy'): 200, ('F2', 'Business'): 300, ('F2', 'First'): 500\n",
    "}\n",
    "\n",
    "# Unsold Cost\n",
    "c_unsold = {\n",
    "    ('F1', 'Economy'): 100, ('F1', 'Business'): 150, ('F1', 'First'): 200,\n",
    "    ('F2', 'Economy'): 100, ('F2', 'Business'): 150, ('F2', 'First'): 200\n",
    "}\n",
    "\n",
    "# Overbooking Limit\n",
    "alpha = {'Economy': 0.05, 'Business': 0.10, 'First': 0.05}\n",
    "\n",
    "# Fuel Cost\n",
    "c_fuel = 5"
   ]
  },
  {
   "cell_type": "code",
   "execution_count": 3,
   "metadata": {},
   "outputs": [],
   "source": [
    "# Initialize model\n",
    "model = LpProblem(\"Airline_Seat_Optimization\", LpMinimize)\n",
    "\n",
    "# Decision variables\n",
    "X = LpVariable.dicts(\"X\", [(f, c) for f in flights for c in classes], lowBound=0, cat=LpInteger)\n",
    "O = LpVariable.dicts(\"O\", [(f, c) for f in flights for c in classes], lowBound=0, cat=LpInteger)\n",
    "U = LpVariable.dicts(\"U\", [(f, c) for f in flights for c in classes], lowBound=0, cat=LpInteger)\n",
    "\n",
    "# Objective function\n",
    "model += lpSum(\n",
    "    (c_seat[f, c]) * X[f, c] +\n",
    "    c_overbook[f, c] * O[f, c] +\n",
    "    c_unsold[f, c] * U[f, c]\n",
    "    for f in flights for c in classes\n",
    ") + lpSum(c_fuel * d_f[f] for f in flights)\n",
    "\n",
    "# model += lpSum(\n",
    "#     (c_seat[f, c] + c_luggage[f, c] + c_legroom[f, c]) * X[f, c] +\n",
    "#     c_overbook[f, c] * O[f, c] +\n",
    "#     c_unsold[f, c] * U[f, c]\n",
    "#     for f in flights for c in classes\n",
    "# ) + lpSum(c_fuel * d_f[f] for f in flights)\n",
    "\n",
    "# Constraints\n",
    "for f in flights:\n",
    "    for c in classes:\n",
    "        model += X[f, c] <= D[f, c] + O[f, c], f\"Demand_Fulfillment_{f}_{c}\"\n",
    "        model += X[f, c] + U[f, c] == D[f, c] + O[f, c], f\"Seat_Accounting_{f}_{c}\"\n",
    "        model += O[f, c] <= alpha[c] * D[f, c], f\"Overbooking_Limit_{f}_{c}\"\n",
    "        model += X[f, c] <= K[f, c], f\"Capacity_{f}_{c}\"\n"
   ]
  },
  {
   "cell_type": "code",
   "execution_count": 4,
   "metadata": {},
   "outputs": [
    {
     "data": {
      "text/plain": [
       "1"
      ]
     },
     "execution_count": 4,
     "metadata": {},
     "output_type": "execute_result"
    }
   ],
   "source": [
    "# Solve\n",
    "model.solve()"
   ]
  },
  {
   "cell_type": "code",
   "execution_count": 5,
   "metadata": {},
   "outputs": [
    {
     "name": "stdout",
     "output_type": "stream",
     "text": [
      "Status: Optimal\n",
      "Total Cost: 31600.0\n",
      "O_('F1',_'Business') = 0.0\n",
      "O_('F1',_'Economy') = 0.0\n",
      "O_('F1',_'First') = 0.0\n",
      "O_('F2',_'Business') = 0.0\n",
      "O_('F2',_'Economy') = 0.0\n",
      "O_('F2',_'First') = 0.0\n",
      "U_('F1',_'Business') = 0.0\n",
      "U_('F1',_'Economy') = 0.0\n",
      "U_('F1',_'First') = 0.0\n",
      "U_('F2',_'Business') = 0.0\n",
      "U_('F2',_'Economy') = 0.0\n",
      "U_('F2',_'First') = 0.0\n",
      "X_('F1',_'Business') = 40.0\n",
      "X_('F1',_'Economy') = 90.0\n",
      "X_('F1',_'First') = 10.0\n",
      "X_('F2',_'Business') = 30.0\n",
      "X_('F2',_'Economy') = 80.0\n",
      "X_('F2',_'First') = 20.0\n"
     ]
    }
   ],
   "source": [
    "# Output\n",
    "print(\"Status:\", LpStatus[model.status])\n",
    "print(\"Total Cost:\", value(model.objective))\n",
    "for v in model.variables():\n",
    "    print(f\"{v.name} = {v.varValue}\")"
   ]
  },
  {
   "cell_type": "code",
   "execution_count": null,
   "metadata": {},
   "outputs": [],
   "source": []
  }
 ],
 "metadata": {
  "kernelspec": {
   "display_name": "Python 3",
   "language": "python",
   "name": "python3"
  },
  "language_info": {
   "codemirror_mode": {
    "name": "ipython",
    "version": 3
   },
   "file_extension": ".py",
   "mimetype": "text/x-python",
   "name": "python",
   "nbconvert_exporter": "python",
   "pygments_lexer": "ipython3",
   "version": "3.8.5"
  }
 },
 "nbformat": 4,
 "nbformat_minor": 4
}
